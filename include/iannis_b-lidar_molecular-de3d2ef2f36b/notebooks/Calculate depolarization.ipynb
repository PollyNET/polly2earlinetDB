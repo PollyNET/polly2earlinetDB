{
 "cells": [
  {
   "cell_type": "code",
   "execution_count": 27,
   "metadata": {},
   "outputs": [
    {
     "data": {
      "text/plain": [
       "<module 'molecular.raman_scattering' from '/media/sf_Work/Work/Programming/modules/molecular/molecular/raman_scattering.py'>"
      ]
     },
     "execution_count": 27,
     "metadata": {},
     "output_type": "execute_result"
    }
   ],
   "source": [
    "from matplotlib import pyplot as plt\n",
    "from molecular import raman_scattering; reload(raman_scattering)"
   ]
  },
  {
   "cell_type": "code",
   "execution_count": 28,
   "metadata": {},
   "outputs": [],
   "source": [
    "m = raman_scattering.DepolarizationLidar(532, 1)"
   ]
  },
  {
   "cell_type": "code",
   "execution_count": 29,
   "metadata": {},
   "outputs": [
    {
     "name": "stdout",
     "output_type": "stream",
     "text": [
      "Line2D(Filter fwhm 1 nm)\n"
     ]
    },
    {
     "data": {
      "image/png": "[encoded data removed]",
      "text/plain": [
       "<matplotlib.figure.Figure at 0x7f1446d7fed0>"
      ]
     },
     "metadata": {},
     "output_type": "display_data"
    }
   ],
   "source": [
    "m.plot_spectrum(300., raman_scattering.N2_parameters)\n",
    "#plt.savefig('depol_1064.png', dpi=150)"
   ]
  },
  {
   "cell_type": "code",
   "execution_count": 30,
   "metadata": {},
   "outputs": [
    {
     "data": {
      "text/plain": [
       "(0.004176597341872926, 0.05438551159015462, 0.07145810968185458)"
      ]
     },
     "execution_count": 30,
     "metadata": {},
     "output_type": "execute_result"
    }
   ],
   "source": [
    "m.delta_mol_temperature(300.)"
   ]
  },
  {
   "cell_type": "markdown",
   "metadata": {
    "collapsed": true
   },
   "source": [
    "## Comparison with Behrendt and Nakamura, 2002"
   ]
  },
  {
   "cell_type": "code",
   "execution_count": 31,
   "metadata": {},
   "outputs": [],
   "source": [
    "raman_scattering.N2_parameters = {'name': \"N_{2}\",\n",
    "                 'B0': 1.989500,\n",
    "                 'D0': 5.48E-6,\n",
    "                 'I': 1,\n",
    "                 'gamma_square': 0.509E-48,\n",
    "                 'epsilon': 0.161,\n",
    "                 'g': [6, 3],\n",
    "                 'relative_concentration': 0.79}  # for even/odd J\n",
    "\n",
    "raman_scattering.O2_parameters = {'name': \"O_{2}\",\n",
    "                 'B0': 1.437682,\n",
    "                 'D0': 4.85E-6,\n",
    "                 'I': 0,\n",
    "                 'gamma_square': 1.27E-48,\n",
    "                 'epsilon': 0.467,\n",
    "                 'g': [0, 1],\n",
    "                 'relative_concentration': 0.21}  # for even/odd J"
   ]
  },
  {
   "cell_type": "code",
   "execution_count": 32,
   "metadata": {},
   "outputs": [
    {
     "name": "stdout",
     "output_type": "stream",
     "text": [
      "FWHM    x_N2    x_O2    d_240   Dd\n",
      "0.1\t0.00\t0.00\t3.61\t0.0\n",
      "0.3\t0.12\t0.05\t3.62\t0.1\n",
      "0.5\t1.28\t1.29\t3.75\t1.2\n",
      "0.7\t3.05\t3.75\t3.97\t2.9\n",
      "1.0\t6.67\t8.72\t4.42\t5.6\n",
      "1.5\t14.68\t19.09\t5.39\t9.0\n",
      "2.0\t23.91\t30.24\t6.46\t10.5\n",
      "3.0\t41.92\t49.96\t8.45\t10.1\n",
      "5.0\t66.97\t73.74\t11.06\t6.5\n",
      "7.0\t79.94\t84.67\t12.34\t4.1\n",
      "10.0\t89.07\t91.86\t13.22\t2.3\n",
      "15.0\t94.83\t96.22\t13.77\t1.1\n"
     ]
    }
   ],
   "source": [
    "filter_widhts = [0.1, 0.3, 0.5, 0.7, 1.0 ,1.5 ,2, 3, 5, 7, 10, 15]\n",
    "\n",
    "print(\"FWHM    x_N2    x_O2    d_240   Dd\")\n",
    "for width in filter_widhts:\n",
    "    lidar = raman_scattering.DepolarizationLidar(532, width)\n",
    "    depol_240, x_N2, x_O2 = lidar.delta_mol_temperature(240.)\n",
    "    depol_200, _, _ = lidar.delta_mol_temperature(200.)\n",
    "    depol_280, _, _ = lidar.delta_mol_temperature(280.)\n",
    "    delta_depol = (depol_200 - depol_280) / depol_240\n",
    "    output = \"{:.1f}\\t{:.2f}\\t{:.2f}\\t{:.2f}\\t{:.1f}\".format(width, x_N2*100, x_O2*100, depol_240 * 1e3, delta_depol*100)\n",
    "    print(output)\n",
    "    "
   ]
  },
  {
   "cell_type": "markdown",
   "metadata": {},
   "source": [
    "![Behrend values](images/behrend_delta_mol.PNG)"
   ]
  },
  {
   "cell_type": "code",
   "execution_count": 41,
   "metadata": {},
   "outputs": [
    {
     "data": {
      "text/plain": [
       "0.003614956079683788"
      ]
     },
     "execution_count": 41,
     "metadata": {},
     "output_type": "execute_result"
    }
   ],
   "source": [
    "wn = 10**7 / 532.\n",
    "raman_scattering.delta_mol(wn, [raman_scattering.N2_parameters, raman_scattering.O2_parameters], [0, 0])"
   ]
  },
  {
   "cell_type": "code",
   "execution_count": 44,
   "metadata": {},
   "outputs": [
    {
     "name": "stdout",
     "output_type": "stream",
     "text": [
      "Gamma2  - N2: 4.97342321778e-49\n",
      "Gamma2  - O2: 1.20619585218e-48\n",
      "Epsilon - N2: 0.158040208604\n",
      "Epsilon - O2: 0.462155669668\n"
     ]
    }
   ],
   "source": [
    "print(\"Gamma2  - N2: %s\" % raman_scattering.gamma_square_N2(wn))\n",
    "print(\"Gamma2  - O2: %s\" % raman_scattering.gamma_square_O2(wn))\n",
    "print(\"Epsilon - N2: %s\" % raman_scattering.epsilon_N2(wn))\n",
    "print(\"Epsilon - O2: %s\" % raman_scattering.epsilon_O2(wn))"
   ]
  },
  {
   "cell_type": "code",
   "execution_count": null,
   "metadata": {},
   "outputs": [],
   "source": []
  }
 ],
 "metadata": {
  "kernelspec": {
   "display_name": "Python 2",
   "language": "python",
   "name": "python2"
  },
  "language_info": {
   "codemirror_mode": {
    "name": "ipython",
    "version": 2
   },
   "file_extension": ".py",
   "mimetype": "text/x-python",
   "name": "python",
   "nbconvert_exporter": "python",
   "pygments_lexer": "ipython2",
   "version": "2.7.12"
  }
 },
 "nbformat": 4,
 "nbformat_minor": 1
}
