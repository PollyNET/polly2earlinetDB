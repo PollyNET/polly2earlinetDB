{
 "cells": [
  {
   "cell_type": "code",
   "execution_count": 1,
   "metadata": {},
   "outputs": [
    {
     "data": {
      "text/plain": [
       "<module 'molecular.rayleigh_depol' from '/media/sf_Work/Work/Programming/modules/molecular/molecular/rayleigh_depol.pyc'>"
      ]
     },
     "execution_count": 1,
     "metadata": {},
     "output_type": "execute_result"
    }
   ],
   "source": [
    "import numpy as np\n",
    "from matplotlib import pyplot as plt\n",
    "\n",
    "from molecular import rayleigh_scattering, refractive_index, molecular_properties, utilities, rayleigh_depol, constants\n",
    "from matplotlib import pyplot as plot\n",
    "reload(constants); reload(rayleigh_scattering); reload(refractive_index)\n",
    "reload(molecular_properties); reload(utilities);  reload(rayleigh_depol)"
   ]
  },
  {
   "cell_type": "markdown",
   "metadata": {},
   "source": [
    "Trying to reproduce values in Reyliegh_calculations_Ulla.pdf"
   ]
  },
  {
   "cell_type": "code",
   "execution_count": 2,
   "metadata": {},
   "outputs": [
    {
     "name": "stdout",
     "output_type": "stream",
     "text": [
      "354.7 nm: 285.7259  1.052903  0.238061  7.05123\n",
      "386.7 nm: 283.5079  1.051665  0.232492  4.90833\n",
      "407.5 nm: 282.3606  1.051051  0.229728  3.94588\n"
     ]
    }
   ],
   "source": [
    "Ps = 1013.25\n",
    "Ts = 288.15\n",
    "RH = 0.\n",
    "C = 385. # CO2 ppmv\n",
    "\n",
    "wavelengths = [354.7, 386.7, 407.5]\n",
    "rayleigh_scattering.ASSUME_AIR_IDEAL = True\n",
    "\n",
    "for wavelength in wavelengths:\n",
    "    n_air = refractive_index.n_air(wavelength, Ps, Ts, C, RH)\n",
    "    Fk = molecular_properties.kings_factor_atmosphere(wavelength, C, p_e=0., p_t=Ps)\n",
    "    epsilon = molecular_properties.epsilon_atmosphere(wavelength, C, p_e=0., p_t=Ps)\n",
    "    alpha = rayleigh_scattering.alpha_rayleigh(wavelength, Ps, Ts, C, RH)\n",
    "    print \"%s nm: %1.4f  %1.6f  %1.6f  %1.5f\" % (wavelength, (n_air-1)*10**6, Fk, epsilon, alpha * 10**5 )"
   ]
  },
  {
   "cell_type": "code",
   "execution_count": 3,
   "metadata": {},
   "outputs": [
    {
     "name": "stdout",
     "output_type": "stream",
     "text": [
      "p_e: 7.85427 hPa. Should be 7.85075.\n",
      "f: 1.00393\n",
      "200.0 nm: 1.078508  0.35329  91.69857\n",
      "300.0 nm: 1.056005  0.25202  14.35820\n",
      "3500.0 nm: 1.046405  0.20882  0.00067\n"
     ]
    }
   ],
   "source": [
    "# Evaluate Tomasi 2005, table 2.\n",
    "Ps = 1013.00\n",
    "Ts = 288.20\n",
    "RH = 45.9\n",
    "C = 385. # CO2 ppmv\n",
    "p_e = utilities.rh_to_pressure(RH, Ts)\n",
    "ef = refractive_index.enhancement_factor_f(Ps, Ts)\n",
    "\n",
    "print(\"p_e: %.5f hPa. Should be 7.85075.\" % p_e)\n",
    "print(\"f: %1.5f\" % ef)\n",
    "\n",
    "wavelengths = [200., 300., 3500.]\n",
    "rayleigh_scattering.ASSUME_AIR_IDEAL = True\n",
    "\n",
    "for wavelength in wavelengths:\n",
    "    Fk = molecular_properties.kings_factor_atmosphere(wavelength, C, p_e=p_e, p_t=Ps)\n",
    "    epsilon = molecular_properties.epsilon_atmosphere(wavelength, C, p_e=p_e, p_t=Ps)\n",
    "    alpha = rayleigh_scattering.alpha_rayleigh(wavelength, Ps, Ts, C, RH)\n",
    "    print \"%s nm: %1.6f  %1.5f  %1.5f\" % (wavelength, Fk, epsilon, alpha * 10**5 )"
   ]
  },
  {
   "cell_type": "code",
   "execution_count": 4,
   "metadata": {},
   "outputs": [
    {
     "name": "stdout",
     "output_type": "stream",
     "text": [
      "Sigma 3.60189. Should be 3.6064\n"
     ]
    }
   ],
   "source": [
    "# Evaluate Tomasi 2005, table 2.\n",
    "Ps = 1013.0\n",
    "Ts = 288.20\n",
    "RH = 45.9\n",
    "C = 385. # CO2 ppmv\n",
    "\n",
    "rayleigh_scattering.ASSUME_AIR_IDEAL = True\n",
    "\n",
    "wavelength = 200.\n",
    "sigma = rayleigh_scattering.sigma_rayleigh(wavelength, Ps, Ts, C, RH) * 10**4 * 10**25\n",
    "print \"Sigma %1.5f. Should be 3.6064\" % sigma"
   ]
  },
  {
   "cell_type": "code",
   "execution_count": 5,
   "metadata": {},
   "outputs": [
    {
     "name": "stdout",
     "output_type": "stream",
     "text": [
      "N: 27392.94274958226. Should be 27392.9\n"
     ]
    }
   ],
   "source": [
    "# Evaluate cidor 1996, Table 2, line 1\n",
    "wavelength = 633.\n",
    "P = 1020.948\n",
    "T = 273.15 + 19.526\n",
    "p_e = 10.65  # hPa\n",
    "C = 510. # CO2 ppmv\n",
    "\n",
    "rh = utilities.pressure_to_rh(p_e, T)\n",
    "\n",
    "n = (refractive_index.n_air(wavelength, P, T, C, rh) - 1) * 10**8\n",
    "print \"N: %s. Should be 27392.9\" % n"
   ]
  },
  {
   "cell_type": "code",
   "execution_count": 6,
   "metadata": {},
   "outputs": [
    {
     "name": "stdout",
     "output_type": "stream",
     "text": [
      "0.544066490721 3.31064861289\n"
     ]
    }
   ],
   "source": [
    "# Ulla table 3\n",
    "wavelength = 354.7\n",
    "P = 1013.25\n",
    "T = 288.15\n",
    "rh = 0.\n",
    "C = 385. # CO2 ppmv\n",
    "\n",
    "permitivity_vacuum = 8.85e-12\n",
    "k = 4 * np.pi * permitivity_vacuum\n",
    "wavenumber_cm = 1 / (wavelength * 1e-7)\n",
    "F_n2 = molecular_properties.kings_factor_N2(wavenumber_cm)\n",
    "epsilon_n2 = molecular_properties.epsilon_N2(wavenumber_cm)\n",
    "gamma_n2 = molecular_properties.gamma_square_N2(wavenumber_cm)\n",
    "alpha_n2 = gamma_n2 / epsilon_n2\n",
    "print gamma_n2 * 1e48, alpha_n2*1e48"
   ]
  },
  {
   "cell_type": "code",
   "execution_count": 7,
   "metadata": {},
   "outputs": [
    {
     "name": "stdout",
     "output_type": "stream",
     "text": [
      "308.089: 29046.60\n",
      "351.1: 28601.83\n",
      "354.818: 28571.65\n",
      "532.223: 27819.38\n",
      "607.603: 27686.25\n",
      "1064.442: 27397.37\n"
     ]
    }
   ],
   "source": [
    "# Volker coefficient table n_air\n",
    "P = 1013.25\n",
    "T = 288.15\n",
    "rh = 0.\n",
    "C = 385. # CO2 ppmv\n",
    "\n",
    "wavelengths = [308.089, 351.1, 354.818, 532.223, 607.603, 1064.442]\n",
    "\n",
    "for wavelength in wavelengths:\n",
    "    n_air = refractive_index.n_air(wavelength, P, T, C, rh)\n",
    "    print (\"%s: %1.2f\" % (wavelength, (n_air -1) * 1e8))"
   ]
  },
  {
   "cell_type": "code",
   "execution_count": 8,
   "metadata": {},
   "outputs": [
    {
     "name": "stdout",
     "output_type": "stream",
     "text": [
      "308.089: 1.05574\n",
      "351.1: 1.05307\n",
      "354.818: 1.05290\n",
      "532.223: 1.04899\n",
      "607.603: 1.04839\n",
      "1064.442: 1.04721\n"
     ]
    }
   ],
   "source": [
    "# Volker coefficient table, Kings Factor\n",
    "P = 1013.25\n",
    "T = 288.15\n",
    "rh = 0.\n",
    "C = 385. # CO2 ppmv\n",
    "\n",
    "wavelengths = [308.089, 351.1, 354.818, 532.223, 607.603, 1064.442]\n",
    "\n",
    "for wavelength in wavelengths:\n",
    "    Fk =molecular_properties.kings_factor_atmosphere(wavelength, C, p_e=0., p_t=P)\n",
    "    print (\"%s: %1.5f\" % (wavelength, Fk))"
   ]
  },
  {
   "cell_type": "code",
   "execution_count": 9,
   "metadata": {},
   "outputs": [
    {
     "name": "stdout",
     "output_type": "stream",
     "text": [
      "Wavelength   \tExtinction\t    beta_T\t    beta_c\n",
      "----------------------------------------------------------\n",
      "308.089 \t1.2837e-04\t1.5080e-05\t1.4656e-05\n",
      "351.100 \t7.3611e-05\t8.6538e-06\t8.4214e-06\n",
      "354.818 \t7.0414e-05\t8.2783e-06\t8.0566e-06\n",
      "532.223 \t1.3138e-05\t1.5462e-06\t1.5078e-06\n",
      "607.603 \t7.6559e-06\t9.0120e-07\t8.7905e-07\n",
      "1064.442 \t7.9504e-07\t9.3617e-08\t9.1371e-08\n"
     ]
    }
   ],
   "source": [
    "# Volker coefficient table, molecular extinction\n",
    "P = 1013.25\n",
    "T = 288.15\n",
    "rh = 0.\n",
    "C = 385. # CO2 ppmv\n",
    "rayleigh_scattering.ASSUME_AIR_IDEAL = True\n",
    "\n",
    "print(\"Wavelength   \\tExtinction\\t    beta_T\\t    beta_c\")\n",
    "print('----------------------------------------------------------')\n",
    "wavelengths = [308.089, 351.1, 354.818, 532.223, 607.603, 1064.442]\n",
    "\n",
    "for wavelength in wavelengths:\n",
    "    alpha = rayleigh_scattering.alpha_rayleigh(wavelength, pressure=P, temperature=T, C=C, rh=rh)\n",
    "    beta_t = rayleigh_scattering.beta_pi_rayleigh(wavelength, pressure=P, temperature=T, C=C, rh=rh)\n",
    "    beta_c = rayleigh_scattering.beta_pi_cabannes(wavelength, pressure=P, temperature=T, C=C, rh=rh)\n",
    "    print (\"%1.3f \\t%1.4e\\t%1.4e\\t%1.4e\" % (wavelength, alpha, beta_t, beta_c))"
   ]
  },
  {
   "cell_type": "code",
   "execution_count": 10,
   "metadata": {},
   "outputs": [
    {
     "name": "stdout",
     "output_type": "stream",
     "text": [
      "0.1 - \t0.00\t0.00\t3.62\t3.63 -0.2\n",
      "0.3 - \t0.12\t0.05\t3.63\t3.63 0.1\n",
      "0.5 - \t1.29\t1.30\t3.76\t3.76 0.1\n",
      "0.7 - \t3.07\t3.78\t3.98\t3.98 0.1\n",
      "1.0 - \t6.72\t8.78\t4.44\t4.43 0.2\n",
      "1.5 - \t14.78\t19.19\t5.41\t5.40 0.1\n",
      "2.0 - \t24.04\t30.37\t6.49\t6.47 0.2\n",
      "3.0 - \t42.10\t50.13\t8.49\t8.47 0.2\n",
      "5.0 - \t67.15\t73.88\t11.10\t11.10 -0.0\n",
      "7.0 - \t80.09\t84.77\t12.38\t12.40 -0.2\n",
      "10.0 - \t89.16\t91.92\t13.26\t13.30 -0.3\n",
      "15.0 - \t94.88\t96.25\t13.80\t13.80 0.0\n"
     ]
    }
   ],
   "source": [
    "# Behrent & Nakamura depolarization\n",
    "wavelength = 532.\n",
    "T = 240.\n",
    "rh = 0.\n",
    "rayleigh_scattering.ASSUME_AIR_IDEAL = True\n",
    "\n",
    "wavenumber = 1e7 / wavelength\n",
    "rayleigh_depol.N2_parameters['gamma_square'] = lambda x: 0.509E-48\n",
    "rayleigh_depol.O2_parameters['gamma_square'] = lambda x: 1.27E-48\n",
    "rayleigh_depol.N2_parameters['epsilon'] = lambda x: 0.161\n",
    "rayleigh_depol.O2_parameters['epsilon'] = lambda x: 0.467\n",
    "\n",
    "\n",
    "fwhms = [0.1, 0.3, 0.5, 0.7, 1.0, 1.5, 2.0, 3.0, 5.0, 7.0, 10.0, 15.0]\n",
    "deltas_true = [3.63, 3.63, 3.76, 3.98, 4.43, 5.40, 6.47, 8.47, 11.1, 12.4, 13.3, 13.8]\n",
    "for fwhm, d_true in zip(fwhms, deltas_true):\n",
    "    lidar = rayleigh_depol.DepolarizationLidar(wavelength=wavelength, fwhm=fwhm)\n",
    "    x_N2, x_O2 = lidar.rotation_contribution_temperature(T)\n",
    "    delta = lidar.delta_mol_temperature(T)\n",
    "    err = (delta*1e3 - d_true) / d_true * 100\n",
    "    print (\"%1.1f - \\t%1.2f\\t%1.2f\\t%1.2f\\t%1.2f %1.1f\" % (fwhm, x_N2 *100., x_O2*100., delta*1e3, d_true, err))"
   ]
  },
  {
   "cell_type": "code",
   "execution_count": 11,
   "metadata": {},
   "outputs": [
    {
     "name": "stdout",
     "output_type": "stream",
     "text": [
      "5.09e-49 5.09e-49\n",
      "1.27e-48 1.27e-48\n",
      "0.161 0.161\n",
      "0.467 0.467\n"
     ]
    }
   ],
   "source": [
    "print rayleigh_depol.N2_parameters['gamma_square'](wavenumber), 0.509E-48\n",
    "print rayleigh_depol.O2_parameters['gamma_square'](wavenumber), 1.27E-48\n",
    "print rayleigh_depol.N2_parameters['epsilon'](wavenumber), 0.161\n",
    "print rayleigh_depol.O2_parameters['epsilon'](wavenumber), 0.467"
   ]
  },
  {
   "cell_type": "code",
   "execution_count": 12,
   "metadata": {},
   "outputs": [
    {
     "name": "stdout",
     "output_type": "stream",
     "text": [
      "0.003614956079683788\n",
      "0.014253718059703064\n",
      "0.0036334126712351525\n",
      "0.014325449604484316\n"
     ]
    }
   ],
   "source": [
    "print rayleigh_depol.delta_mol(wavenumber, [0.79, 0.21], [rayleigh_depol.N2_parameters, rayleigh_depol.O2_parameters, ], [0, 0])\n",
    "print rayleigh_depol.delta_mol(wavenumber, [0.79, 0.21], [rayleigh_depol.N2_parameters, rayleigh_depol.O2_parameters, ], [1, 1])\n",
    "print rayleigh_depol.delta_mol(wavenumber, [0.786, 0.214], [rayleigh_depol.N2_parameters, rayleigh_depol.O2_parameters, ], [0, 0])\n",
    "print rayleigh_depol.delta_mol(wavenumber, [0.786, 0.214], [rayleigh_depol.N2_parameters, rayleigh_depol.O2_parameters, ], [1, 1]) "
   ]
  },
  {
   "cell_type": "code",
   "execution_count": 13,
   "metadata": {},
   "outputs": [
    {
     "name": "stdout",
     "output_type": "stream",
     "text": [
      "Cabanes:  0.0027 (0.0077). Correct 0.0027 (0.0077)\n",
      "Rayleigh: 0.0106 (0.0299). Correct 0.0106 (0.0299)\n"
     ]
    }
   ],
   "source": [
    "delta_cab_n2 = rayleigh_depol.delta_mol(wavenumber, [1. ], [rayleigh_depol.N2_parameters, ], [0,])\n",
    "delta_ray_n2 = rayleigh_depol.delta_mol(wavenumber, [1. ], [rayleigh_depol.N2_parameters, ], [1,])\n",
    "delta_cab_o2 = rayleigh_depol.delta_mol(wavenumber, [1. ], [rayleigh_depol.O2_parameters, ], [0,])\n",
    "delta_ray_o2 = rayleigh_depol.delta_mol(wavenumber, [1. ], [rayleigh_depol.O2_parameters, ], [1,])\n",
    "\n",
    "print \"Cabanes:  %1.4f (%1.4f). Correct 0.0027 (0.0077)\" % (delta_cab_n2, delta_cab_o2)\n",
    "print \"Rayleigh: %1.4f (%1.4f). Correct 0.0106 (0.0299)\" % (delta_ray_n2, delta_ray_o2)"
   ]
  },
  {
   "cell_type": "code",
   "execution_count": 14,
   "metadata": {},
   "outputs": [
    {
     "name": "stdout",
     "output_type": "stream",
     "text": [
      "0.003614956079683788\n"
     ]
    }
   ],
   "source": [
    "print rayleigh_depol.delta_mol(wavenumber, [0.79, 0.21], [rayleigh_depol.N2_parameters, rayleigh_depol.O2_parameters, ], [0, 0])"
   ]
  },
  {
   "cell_type": "code",
   "execution_count": 15,
   "metadata": {},
   "outputs": [
    {
     "name": "stdout",
     "output_type": "stream",
     "text": [
      "0.0026737671885\n",
      "0.00770338927134\n",
      "0.010581894663\n",
      "0.0298924639413\n"
     ]
    }
   ],
   "source": [
    "e_n2 = rayleigh_depol.N2_parameters['epsilon'](wavenumber)\n",
    "e_o2 = rayleigh_depol.O2_parameters['epsilon'](wavenumber)\n",
    "\n",
    "print 3 * e_n2 / (180. + 4 * e_n2)\n",
    "print 3 * e_o2 / (180. + 4 * e_o2)\n",
    "print 3 * e_n2 / (45. + 4 * e_n2)\n",
    "print 3 * e_o2 / (45. + 4 * e_o2)"
   ]
  },
  {
   "cell_type": "code",
   "execution_count": null,
   "metadata": {},
   "outputs": [],
   "source": []
  },
  {
   "cell_type": "code",
   "execution_count": 16,
   "metadata": {},
   "outputs": [
    {
     "data": {
      "image/png": "[encoded data removed]",
      "text/plain": [
       "<matplotlib.figure.Figure at 0x7fa898685710>"
      ]
     },
     "metadata": {},
     "output_type": "display_data"
    },
    {
     "data": {
      "image/png": "[encoded data removed]",
      "text/plain": [
       "<matplotlib.figure.Figure at 0x7fa8701a44d0>"
      ]
     },
     "metadata": {},
     "output_type": "display_data"
    }
   ],
   "source": [
    "lidar = rayleigh_depol.DepolarizationLidar(355., 1.0)\n",
    "lidar.plot_spectrum(240, rayleigh_depol.N2_parameters, xlim=(352, 358), figsize=(10, 4))\n",
    "lidar.plot_spectrum(240, rayleigh_depol.O2_parameters, xlim=(352, 358), figsize=(10, 4))"
   ]
  },
  {
   "cell_type": "code",
   "execution_count": 17,
   "metadata": {},
   "outputs": [
    {
     "data": {
      "text/plain": [
       "0.7862903225806452"
      ]
     },
     "execution_count": 17,
     "metadata": {},
     "output_type": "execute_result"
    }
   ],
   "source": [
    "0.780 / (0.780 + 0.212)\n",
    "#0.212 / (0.780 + 0.212)"
   ]
  },
  {
   "cell_type": "code",
   "execution_count": null,
   "metadata": {},
   "outputs": [],
   "source": []
  }
 ],
 "metadata": {
  "kernelspec": {
   "display_name": "Python 2",
   "language": "python",
   "name": "python2"
  },
  "language_info": {
   "codemirror_mode": {
    "name": "ipython",
    "version": 2
   },
   "file_extension": ".py",
   "mimetype": "text/x-python",
   "name": "python",
   "nbconvert_exporter": "python",
   "pygments_lexer": "ipython2",
   "version": "2.7.12"
  }
 },
 "nbformat": 4,
 "nbformat_minor": 2
}
